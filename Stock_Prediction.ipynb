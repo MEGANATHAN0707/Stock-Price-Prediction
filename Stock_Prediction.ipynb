{
 "cells": [
  {
   "cell_type": "markdown",
   "metadata": {
    "colab_type": "text",
    "id": "view-in-github"
   },
   "source": [
    "<a href=\"https://colab.research.google.com/github/roshank1605A04/Stock-Market-Predictions/blob/master/Stock_Prediction.ipynb\" target=\"_parent\"><img src=\"https://colab.research.google.com/assets/colab-badge.svg\" alt=\"Open In Colab\"/></a>"
   ]
  },
  {
   "cell_type": "code",
   "execution_count": 1,
   "metadata": {
    "colab": {},
    "colab_type": "code",
    "id": "qNYMEOdmsOac"
   },
   "outputs": [],
   "source": [
    "import numpy as np\n",
    "import pandas as pd\n",
    "\n",
    "import matplotlib.pyplot as plt\n",
    "import seaborn as sns\n"
   ]
  },
  {
   "cell_type": "code",
   "execution_count": 2,
   "metadata": {
    "colab": {
     "base_uri": "https://localhost:8080/",
     "height": 206
    },
    "colab_type": "code",
    "id": "Q-M-x72pu8TH",
    "outputId": "cacecccf-a38a-47cd-9e8d-332af6bf8735"
   },
   "outputs": [
    {
     "data": {
      "text/html": [
       "<div>\n",
       "<style scoped>\n",
       "    .dataframe tbody tr th:only-of-type {\n",
       "        vertical-align: middle;\n",
       "    }\n",
       "\n",
       "    .dataframe tbody tr th {\n",
       "        vertical-align: top;\n",
       "    }\n",
       "\n",
       "    .dataframe thead th {\n",
       "        text-align: right;\n",
       "    }\n",
       "</style>\n",
       "<table border=\"1\" class=\"dataframe\">\n",
       "  <thead>\n",
       "    <tr style=\"text-align: right;\">\n",
       "      <th></th>\n",
       "      <th>Date</th>\n",
       "      <th>Open</th>\n",
       "      <th>High</th>\n",
       "      <th>Low</th>\n",
       "      <th>Close</th>\n",
       "      <th>Volume</th>\n",
       "    </tr>\n",
       "  </thead>\n",
       "  <tbody>\n",
       "    <tr>\n",
       "      <th>0</th>\n",
       "      <td>1/3/2012</td>\n",
       "      <td>325.25</td>\n",
       "      <td>332.83</td>\n",
       "      <td>324.97</td>\n",
       "      <td>663.59</td>\n",
       "      <td>7,380,500</td>\n",
       "    </tr>\n",
       "    <tr>\n",
       "      <th>1</th>\n",
       "      <td>1/4/2012</td>\n",
       "      <td>331.27</td>\n",
       "      <td>333.87</td>\n",
       "      <td>329.08</td>\n",
       "      <td>666.45</td>\n",
       "      <td>5,749,400</td>\n",
       "    </tr>\n",
       "    <tr>\n",
       "      <th>2</th>\n",
       "      <td>1/5/2012</td>\n",
       "      <td>329.83</td>\n",
       "      <td>330.75</td>\n",
       "      <td>326.89</td>\n",
       "      <td>657.21</td>\n",
       "      <td>6,590,300</td>\n",
       "    </tr>\n",
       "    <tr>\n",
       "      <th>3</th>\n",
       "      <td>1/6/2012</td>\n",
       "      <td>328.34</td>\n",
       "      <td>328.77</td>\n",
       "      <td>323.68</td>\n",
       "      <td>648.24</td>\n",
       "      <td>5,405,900</td>\n",
       "    </tr>\n",
       "    <tr>\n",
       "      <th>4</th>\n",
       "      <td>1/9/2012</td>\n",
       "      <td>322.04</td>\n",
       "      <td>322.29</td>\n",
       "      <td>309.46</td>\n",
       "      <td>620.76</td>\n",
       "      <td>11,688,800</td>\n",
       "    </tr>\n",
       "    <tr>\n",
       "      <th>5</th>\n",
       "      <td>1/10/2012</td>\n",
       "      <td>313.70</td>\n",
       "      <td>315.72</td>\n",
       "      <td>307.30</td>\n",
       "      <td>621.43</td>\n",
       "      <td>8,824,000</td>\n",
       "    </tr>\n",
       "    <tr>\n",
       "      <th>6</th>\n",
       "      <td>1/11/2012</td>\n",
       "      <td>310.59</td>\n",
       "      <td>313.52</td>\n",
       "      <td>309.40</td>\n",
       "      <td>624.25</td>\n",
       "      <td>4,817,800</td>\n",
       "    </tr>\n",
       "    <tr>\n",
       "      <th>7</th>\n",
       "      <td>1/12/2012</td>\n",
       "      <td>314.43</td>\n",
       "      <td>315.26</td>\n",
       "      <td>312.08</td>\n",
       "      <td>627.92</td>\n",
       "      <td>3,764,400</td>\n",
       "    </tr>\n",
       "    <tr>\n",
       "      <th>8</th>\n",
       "      <td>1/13/2012</td>\n",
       "      <td>311.96</td>\n",
       "      <td>312.30</td>\n",
       "      <td>309.37</td>\n",
       "      <td>623.28</td>\n",
       "      <td>4,631,800</td>\n",
       "    </tr>\n",
       "    <tr>\n",
       "      <th>9</th>\n",
       "      <td>1/17/2012</td>\n",
       "      <td>314.81</td>\n",
       "      <td>314.81</td>\n",
       "      <td>311.67</td>\n",
       "      <td>626.86</td>\n",
       "      <td>3,832,800</td>\n",
       "    </tr>\n",
       "  </tbody>\n",
       "</table>\n",
       "</div>"
      ],
      "text/plain": [
       "        Date    Open    High     Low   Close      Volume\n",
       "0   1/3/2012  325.25  332.83  324.97  663.59   7,380,500\n",
       "1   1/4/2012  331.27  333.87  329.08  666.45   5,749,400\n",
       "2   1/5/2012  329.83  330.75  326.89  657.21   6,590,300\n",
       "3   1/6/2012  328.34  328.77  323.68  648.24   5,405,900\n",
       "4   1/9/2012  322.04  322.29  309.46  620.76  11,688,800\n",
       "5  1/10/2012  313.70  315.72  307.30  621.43   8,824,000\n",
       "6  1/11/2012  310.59  313.52  309.40  624.25   4,817,800\n",
       "7  1/12/2012  314.43  315.26  312.08  627.92   3,764,400\n",
       "8  1/13/2012  311.96  312.30  309.37  623.28   4,631,800\n",
       "9  1/17/2012  314.81  314.81  311.67  626.86   3,832,800"
      ]
     },
     "execution_count": 2,
     "metadata": {},
     "output_type": "execute_result"
    }
   ],
   "source": [
    "training_data = pd.read_csv('Google_Stock_Price_Train.csv')\n",
    "\n",
    "training_data.shape\n",
    "training_data.head(10)"
   ]
  },
  {
   "cell_type": "code",
   "execution_count": 3,
   "metadata": {
    "colab": {
     "base_uri": "https://localhost:8080/",
     "height": 206
    },
    "colab_type": "code",
    "id": "Pm3EqSv_V0JB",
    "outputId": "42b3b7d2-ab84-4815-b7e1-200047121ead"
   },
   "outputs": [
    {
     "data": {
      "text/html": [
       "<div>\n",
       "<style scoped>\n",
       "    .dataframe tbody tr th:only-of-type {\n",
       "        vertical-align: middle;\n",
       "    }\n",
       "\n",
       "    .dataframe tbody tr th {\n",
       "        vertical-align: top;\n",
       "    }\n",
       "\n",
       "    .dataframe thead th {\n",
       "        text-align: right;\n",
       "    }\n",
       "</style>\n",
       "<table border=\"1\" class=\"dataframe\">\n",
       "  <thead>\n",
       "    <tr style=\"text-align: right;\">\n",
       "      <th></th>\n",
       "      <th>Open</th>\n",
       "    </tr>\n",
       "  </thead>\n",
       "  <tbody>\n",
       "    <tr>\n",
       "      <th>0</th>\n",
       "      <td>325.25</td>\n",
       "    </tr>\n",
       "    <tr>\n",
       "      <th>1</th>\n",
       "      <td>331.27</td>\n",
       "    </tr>\n",
       "    <tr>\n",
       "      <th>2</th>\n",
       "      <td>329.83</td>\n",
       "    </tr>\n",
       "    <tr>\n",
       "      <th>3</th>\n",
       "      <td>328.34</td>\n",
       "    </tr>\n",
       "    <tr>\n",
       "      <th>4</th>\n",
       "      <td>322.04</td>\n",
       "    </tr>\n",
       "  </tbody>\n",
       "</table>\n",
       "</div>"
      ],
      "text/plain": [
       "     Open\n",
       "0  325.25\n",
       "1  331.27\n",
       "2  329.83\n",
       "3  328.34\n",
       "4  322.04"
      ]
     },
     "execution_count": 3,
     "metadata": {},
     "output_type": "execute_result"
    }
   ],
   "source": [
    "training_data = training_data.iloc[:, 1:2]\n",
    "\n",
    "training_data.shape\n",
    "training_data.head()"
   ]
  },
  {
   "cell_type": "code",
   "execution_count": 4,
   "metadata": {
    "colab": {},
    "colab_type": "code",
    "id": "z3OYbMhcwgqm"
   },
   "outputs": [],
   "source": [
    "# feature scaling\n",
    "\n",
    "from sklearn.preprocessing import MinMaxScaler\n",
    "\n",
    "mm = MinMaxScaler(feature_range = (0, 1))\n",
    "training_data = mm.fit_transform(training_data)\n"
   ]
  },
  {
   "cell_type": "code",
   "execution_count": 5,
   "metadata": {
    "colab": {
     "base_uri": "https://localhost:8080/",
     "height": 54
    },
    "colab_type": "code",
    "id": "i8re98-UxQ3y",
    "outputId": "88508262-57d8-4e36-9b54-a8255e05e927"
   },
   "outputs": [
    {
     "name": "stdout",
     "output_type": "stream",
     "text": [
      "(1257, 1)\n",
      "(1257, 1)\n"
     ]
    }
   ],
   "source": [
    "# Getting the inputs and outputs\n",
    "\n",
    "x_train = training_data[0:1257]\n",
    "y_train = training_data[1:1258]\n",
    "\n",
    "print(x_train.shape)\n",
    "print(y_train.shape)\n"
   ]
  },
  {
   "cell_type": "code",
   "execution_count": 6,
   "metadata": {
    "colab": {
     "base_uri": "https://localhost:8080/",
     "height": 36
    },
    "colab_type": "code",
    "id": "qTNdKPW8yFRc",
    "outputId": "8b71f3a4-5f23-49cb-fae2-1e34ebcea1a8"
   },
   "outputs": [
    {
     "name": "stdout",
     "output_type": "stream",
     "text": [
      "(1257, 1, 1)\n"
     ]
    }
   ],
   "source": [
    "# reshaping\n",
    "\n",
    "x_train = np.reshape(x_train, (1257, 1, 1))\n",
    "\n",
    "print(x_train.shape)"
   ]
  },
  {
   "cell_type": "code",
   "execution_count": 7,
   "metadata": {
    "colab": {
     "base_uri": "https://localhost:8080/",
     "height": 36
    },
    "colab_type": "code",
    "id": "6c47hPxrzRHh",
    "outputId": "422d4d31-80c9-48e9-f026-271853fdefeb"
   },
   "outputs": [],
   "source": [
    "# importing the keras libraries and packages\n",
    "\n",
    "import keras\n",
    "from keras.models import Sequential\n",
    "from keras.layers import Dense\n",
    "from keras.layers import LSTM\n"
   ]
  },
  {
   "cell_type": "code",
   "execution_count": 8,
   "metadata": {
    "colab": {
     "base_uri": "https://localhost:8080/",
     "height": 7529
    },
    "colab_type": "code",
    "id": "Cbe32yNBzuF_",
    "outputId": "04c24b03-7277-4a38-b11a-550012196f41"
   },
   "outputs": [
    {
     "name": "stdout",
     "output_type": "stream",
     "text": [
      "Epoch 1/200\n",
      "40/40 [==============================] - 1s 2ms/step - loss: 0.9384\n",
      "Epoch 2/200\n",
      "40/40 [==============================] - 0s 2ms/step - loss: 0.7437\n",
      "Epoch 3/200\n",
      "40/40 [==============================] - 0s 2ms/step - loss: 0.5862\n",
      "Epoch 4/200\n",
      "40/40 [==============================] - 0s 3ms/step - loss: 0.4601\n",
      "Epoch 5/200\n",
      "40/40 [==============================] - 0s 3ms/step - loss: 0.3608\n",
      "Epoch 6/200\n",
      "40/40 [==============================] - 0s 2ms/step - loss: 0.2827\n",
      "Epoch 7/200\n",
      "40/40 [==============================] - 0s 2ms/step - loss: 0.2230\n",
      "Epoch 8/200\n",
      "40/40 [==============================] - 0s 3ms/step - loss: 0.1771\n",
      "Epoch 9/200\n",
      "40/40 [==============================] - 0s 2ms/step - loss: 0.1431\n",
      "Epoch 10/200\n",
      "40/40 [==============================] - 0s 3ms/step - loss: 0.1179\n",
      "Epoch 11/200\n",
      "40/40 [==============================] - 0s 2ms/step - loss: 0.0998\n",
      "Epoch 12/200\n",
      "40/40 [==============================] - 0s 2ms/step - loss: 0.0866\n",
      "Epoch 13/200\n",
      "40/40 [==============================] - 0s 2ms/step - loss: 0.0775\n",
      "Epoch 14/200\n",
      "40/40 [==============================] - 0s 2ms/step - loss: 0.0710\n",
      "Epoch 15/200\n",
      "40/40 [==============================] - 0s 2ms/step - loss: 0.0666\n",
      "Epoch 16/200\n",
      "40/40 [==============================] - 0s 2ms/step - loss: 0.0636\n",
      "Epoch 17/200\n",
      "40/40 [==============================] - 0s 2ms/step - loss: 0.0616\n",
      "Epoch 18/200\n",
      "40/40 [==============================] - 0s 2ms/step - loss: 0.0600\n",
      "Epoch 19/200\n",
      "40/40 [==============================] - 0s 2ms/step - loss: 0.0589\n",
      "Epoch 20/200\n",
      "40/40 [==============================] - 0s 2ms/step - loss: 0.0579\n",
      "Epoch 21/200\n",
      "40/40 [==============================] - 0s 2ms/step - loss: 0.0571\n",
      "Epoch 22/200\n",
      "40/40 [==============================] - 0s 2ms/step - loss: 0.0563\n",
      "Epoch 23/200\n",
      "40/40 [==============================] - 0s 2ms/step - loss: 0.0556\n",
      "Epoch 24/200\n",
      "40/40 [==============================] - 0s 2ms/step - loss: 0.0548\n",
      "Epoch 25/200\n",
      "40/40 [==============================] - 0s 2ms/step - loss: 0.0541\n",
      "Epoch 26/200\n",
      "40/40 [==============================] - 0s 2ms/step - loss: 0.0533\n",
      "Epoch 27/200\n",
      "40/40 [==============================] - 0s 2ms/step - loss: 0.0525\n",
      "Epoch 28/200\n",
      "40/40 [==============================] - 0s 2ms/step - loss: 0.0518\n",
      "Epoch 29/200\n",
      "40/40 [==============================] - 0s 2ms/step - loss: 0.0510\n",
      "Epoch 30/200\n",
      "40/40 [==============================] - 0s 2ms/step - loss: 0.0502\n",
      "Epoch 31/200\n",
      "40/40 [==============================] - 0s 2ms/step - loss: 0.0493\n",
      "Epoch 32/200\n",
      "40/40 [==============================] - 0s 2ms/step - loss: 0.0485\n",
      "Epoch 33/200\n",
      "40/40 [==============================] - 0s 2ms/step - loss: 0.0477\n",
      "Epoch 34/200\n",
      "40/40 [==============================] - 0s 2ms/step - loss: 0.0468\n",
      "Epoch 35/200\n",
      "40/40 [==============================] - 0s 2ms/step - loss: 0.0460\n",
      "Epoch 36/200\n",
      "40/40 [==============================] - 0s 2ms/step - loss: 0.0451\n",
      "Epoch 37/200\n",
      "40/40 [==============================] - 0s 2ms/step - loss: 0.0442\n",
      "Epoch 38/200\n",
      "40/40 [==============================] - 0s 2ms/step - loss: 0.0433\n",
      "Epoch 39/200\n",
      "40/40 [==============================] - 0s 2ms/step - loss: 0.0424\n",
      "Epoch 40/200\n",
      "40/40 [==============================] - 0s 2ms/step - loss: 0.0415\n",
      "Epoch 41/200\n",
      "40/40 [==============================] - 0s 2ms/step - loss: 0.0406\n",
      "Epoch 42/200\n",
      "40/40 [==============================] - 0s 2ms/step - loss: 0.0397\n",
      "Epoch 43/200\n",
      "40/40 [==============================] - 0s 1ms/step - loss: 0.0388\n",
      "Epoch 44/200\n",
      "40/40 [==============================] - 0s 2ms/step - loss: 0.0378\n",
      "Epoch 45/200\n",
      "40/40 [==============================] - 0s 1ms/step - loss: 0.0369\n",
      "Epoch 46/200\n",
      "40/40 [==============================] - 0s 1ms/step - loss: 0.0359\n",
      "Epoch 47/200\n",
      "40/40 [==============================] - 0s 1ms/step - loss: 0.0350A: 0s - loss: 0.034\n",
      "Epoch 48/200\n",
      "40/40 [==============================] - 0s 1ms/step - loss: 0.0340\n",
      "Epoch 49/200\n",
      "40/40 [==============================] - 0s 1ms/step - loss: 0.0331\n",
      "Epoch 50/200\n",
      "40/40 [==============================] - 0s 1ms/step - loss: 0.0321\n",
      "Epoch 51/200\n",
      "40/40 [==============================] - 0s 1ms/step - loss: 0.0311\n",
      "Epoch 52/200\n",
      "40/40 [==============================] - 0s 1ms/step - loss: 0.0302\n",
      "Epoch 53/200\n",
      "40/40 [==============================] - 0s 1ms/step - loss: 0.0292\n",
      "Epoch 54/200\n",
      "40/40 [==============================] - 0s 2ms/step - loss: 0.0282\n",
      "Epoch 55/200\n",
      "40/40 [==============================] - 0s 2ms/step - loss: 0.0273\n",
      "Epoch 56/200\n",
      "40/40 [==============================] - 0s 2ms/step - loss: 0.0263\n",
      "Epoch 57/200\n",
      "40/40 [==============================] - 0s 2ms/step - loss: 0.0253\n",
      "Epoch 58/200\n",
      "40/40 [==============================] - 0s 2ms/step - loss: 0.0244\n",
      "Epoch 59/200\n",
      "40/40 [==============================] - 0s 1ms/step - loss: 0.0234\n",
      "Epoch 60/200\n",
      "40/40 [==============================] - 0s 2ms/step - loss: 0.0224\n",
      "Epoch 61/200\n",
      "40/40 [==============================] - 0s 2ms/step - loss: 0.0215\n",
      "Epoch 62/200\n",
      "40/40 [==============================] - 0s 1ms/step - loss: 0.0206\n",
      "Epoch 63/200\n",
      "40/40 [==============================] - 0s 1ms/step - loss: 0.0196\n",
      "Epoch 64/200\n",
      "40/40 [==============================] - 0s 1ms/step - loss: 0.0187\n",
      "Epoch 65/200\n",
      "40/40 [==============================] - 0s 1ms/step - loss: 0.0178\n",
      "Epoch 66/200\n",
      "40/40 [==============================] - 0s 1ms/step - loss: 0.0169\n",
      "Epoch 67/200\n",
      "40/40 [==============================] - 0s 1ms/step - loss: 0.0161\n",
      "Epoch 68/200\n",
      "40/40 [==============================] - 0s 1ms/step - loss: 0.0152\n",
      "Epoch 69/200\n",
      "40/40 [==============================] - 0s 1ms/step - loss: 0.0144\n",
      "Epoch 70/200\n",
      "40/40 [==============================] - 0s 2ms/step - loss: 0.0136\n",
      "Epoch 71/200\n",
      "40/40 [==============================] - 0s 1ms/step - loss: 0.0128\n",
      "Epoch 72/200\n",
      "40/40 [==============================] - 0s 971us/step - loss: 0.0120\n",
      "Epoch 73/200\n",
      "40/40 [==============================] - 0s 1ms/step - loss: 0.0113\n",
      "Epoch 74/200\n",
      "40/40 [==============================] - 0s 1ms/step - loss: 0.0105\n",
      "Epoch 75/200\n",
      "40/40 [==============================] - 0s 946us/step - loss: 0.0098\n",
      "Epoch 76/200\n",
      "40/40 [==============================] - 0s 1ms/step - loss: 0.0092\n",
      "Epoch 77/200\n",
      "40/40 [==============================] - 0s 1ms/step - loss: 0.0085\n",
      "Epoch 78/200\n",
      "40/40 [==============================] - 0s 1ms/step - loss: 0.0079\n",
      "Epoch 79/200\n",
      "40/40 [==============================] - 0s 1ms/step - loss: 0.0073\n",
      "Epoch 80/200\n",
      "40/40 [==============================] - 0s 971us/step - loss: 0.0068\n",
      "Epoch 81/200\n",
      "40/40 [==============================] - 0s 1ms/step - loss: 0.0062\n",
      "Epoch 82/200\n",
      "40/40 [==============================] - 0s 1ms/step - loss: 0.0057\n",
      "Epoch 83/200\n",
      "40/40 [==============================] - 0s 1ms/step - loss: 0.0052\n",
      "Epoch 84/200\n",
      "40/40 [==============================] - 0s 1ms/step - loss: 0.0048\n",
      "Epoch 85/200\n",
      "40/40 [==============================] - 0s 946us/step - loss: 0.0044\n",
      "Epoch 86/200\n",
      "40/40 [==============================] - 0s 1ms/step - loss: 0.0040\n",
      "Epoch 87/200\n",
      "40/40 [==============================] - 0s 2ms/step - loss: 0.0036\n",
      "Epoch 88/200\n",
      "40/40 [==============================] - 0s 1ms/step - loss: 0.0033\n",
      "Epoch 89/200\n",
      "40/40 [==============================] - 0s 1ms/step - loss: 0.0030\n",
      "Epoch 90/200\n",
      "40/40 [==============================] - 0s 2ms/step - loss: 0.0027\n",
      "Epoch 91/200\n",
      "40/40 [==============================] - 0s 2ms/step - loss: 0.0025\n",
      "Epoch 92/200\n",
      "40/40 [==============================] - 0s 2ms/step - loss: 0.0023\n",
      "Epoch 93/200\n",
      "40/40 [==============================] - 0s 2ms/step - loss: 0.0020\n",
      "Epoch 94/200\n",
      "40/40 [==============================] - 0s 2ms/step - loss: 0.0018\n",
      "Epoch 95/200\n",
      "40/40 [==============================] - 0s 2ms/step - loss: 0.0017\n",
      "Epoch 96/200\n",
      "40/40 [==============================] - 0s 2ms/step - loss: 0.0015\n",
      "Epoch 97/200\n",
      "40/40 [==============================] - 0s 2ms/step - loss: 0.0014\n",
      "Epoch 98/200\n",
      "40/40 [==============================] - 0s 2ms/step - loss: 0.0013\n",
      "Epoch 99/200\n",
      "40/40 [==============================] - 0s 2ms/step - loss: 0.0012\n",
      "Epoch 100/200\n",
      "40/40 [==============================] - 0s 2ms/step - loss: 0.0011\n",
      "Epoch 101/200\n"
     ]
    },
    {
     "name": "stdout",
     "output_type": "stream",
     "text": [
      "40/40 [==============================] - 0s 2ms/step - loss: 9.9825e-04\n",
      "Epoch 102/200\n",
      "40/40 [==============================] - 0s 2ms/step - loss: 9.2811e-04\n",
      "Epoch 103/200\n",
      "40/40 [==============================] - 0s 2ms/step - loss: 8.6979e-04\n",
      "Epoch 104/200\n",
      "40/40 [==============================] - 0s 2ms/step - loss: 8.1439e-04\n",
      "Epoch 105/200\n",
      "40/40 [==============================] - 0s 2ms/step - loss: 7.6956e-04\n",
      "Epoch 106/200\n",
      "40/40 [==============================] - 0s 2ms/step - loss: 7.3103e-04\n",
      "Epoch 107/200\n",
      "40/40 [==============================] - 0s 2ms/step - loss: 6.9832e-04\n",
      "Epoch 108/200\n",
      "40/40 [==============================] - 0s 2ms/step - loss: 6.7020e-04\n",
      "Epoch 109/200\n",
      "40/40 [==============================] - 0s 2ms/step - loss: 6.4604e-04\n",
      "Epoch 110/200\n",
      "40/40 [==============================] - 0s 2ms/step - loss: 6.2705e-04\n",
      "Epoch 111/200\n",
      "40/40 [==============================] - 0s 2ms/step - loss: 6.1062e-04\n",
      "Epoch 112/200\n",
      "40/40 [==============================] - 0s 2ms/step - loss: 5.9578e-04\n",
      "Epoch 113/200\n",
      "40/40 [==============================] - 0s 2ms/step - loss: 5.8304e-04\n",
      "Epoch 114/200\n",
      "40/40 [==============================] - 0s 2ms/step - loss: 5.7373e-04\n",
      "Epoch 115/200\n",
      "40/40 [==============================] - 0s 2ms/step - loss: 5.6601e-04\n",
      "Epoch 116/200\n",
      "40/40 [==============================] - 0s 2ms/step - loss: 5.5744e-04\n",
      "Epoch 117/200\n",
      "40/40 [==============================] - 0s 2ms/step - loss: 5.5168e-04\n",
      "Epoch 118/200\n",
      "40/40 [==============================] - 0s 2ms/step - loss: 5.4564e-04\n",
      "Epoch 119/200\n",
      "40/40 [==============================] - 0s 2ms/step - loss: 5.4220e-04\n",
      "Epoch 120/200\n",
      "40/40 [==============================] - 0s 2ms/step - loss: 5.3638e-04\n",
      "Epoch 121/200\n",
      "40/40 [==============================] - 0s 2ms/step - loss: 5.3320e-04\n",
      "Epoch 122/200\n",
      "40/40 [==============================] - 0s 2ms/step - loss: 5.3083e-04\n",
      "Epoch 123/200\n",
      "40/40 [==============================] - 0s 2ms/step - loss: 5.2721e-04\n",
      "Epoch 124/200\n",
      "40/40 [==============================] - 0s 2ms/step - loss: 5.2428e-04\n",
      "Epoch 125/200\n",
      "40/40 [==============================] - 0s 2ms/step - loss: 5.2093e-04\n",
      "Epoch 126/200\n",
      "40/40 [==============================] - 0s 2ms/step - loss: 5.1798e-04\n",
      "Epoch 127/200\n",
      "40/40 [==============================] - 0s 2ms/step - loss: 5.1533e-04\n",
      "Epoch 128/200\n",
      "40/40 [==============================] - 0s 2ms/step - loss: 5.1327e-04\n",
      "Epoch 129/200\n",
      "40/40 [==============================] - 0s 2ms/step - loss: 5.1040e-04\n",
      "Epoch 130/200\n",
      "40/40 [==============================] - 0s 2ms/step - loss: 5.0851e-04\n",
      "Epoch 131/200\n",
      "40/40 [==============================] - 0s 2ms/step - loss: 5.0639e-04\n",
      "Epoch 132/200\n",
      "40/40 [==============================] - 0s 2ms/step - loss: 5.0357e-04\n",
      "Epoch 133/200\n",
      "40/40 [==============================] - 0s 2ms/step - loss: 5.0205e-04\n",
      "Epoch 134/200\n",
      "40/40 [==============================] - 0s 2ms/step - loss: 4.9929e-04\n",
      "Epoch 135/200\n",
      "40/40 [==============================] - 0s 2ms/step - loss: 4.9575e-04\n",
      "Epoch 136/200\n",
      "40/40 [==============================] - 0s 2ms/step - loss: 4.9346e-04\n",
      "Epoch 137/200\n",
      "40/40 [==============================] - 0s 2ms/step - loss: 4.9097e-04\n",
      "Epoch 138/200\n",
      "40/40 [==============================] - 0s 2ms/step - loss: 4.8798e-04\n",
      "Epoch 139/200\n",
      "40/40 [==============================] - 0s 2ms/step - loss: 4.8537e-04\n",
      "Epoch 140/200\n",
      "40/40 [==============================] - 0s 2ms/step - loss: 4.8250e-04\n",
      "Epoch 141/200\n",
      "40/40 [==============================] - 0s 2ms/step - loss: 4.8100e-04\n",
      "Epoch 142/200\n",
      "40/40 [==============================] - 0s 2ms/step - loss: 4.7796e-04\n",
      "Epoch 143/200\n",
      "40/40 [==============================] - 0s 2ms/step - loss: 4.7492e-04\n",
      "Epoch 144/200\n",
      "40/40 [==============================] - 0s 2ms/step - loss: 4.7342e-04\n",
      "Epoch 145/200\n",
      "40/40 [==============================] - 0s 2ms/step - loss: 4.7005e-04\n",
      "Epoch 146/200\n",
      "40/40 [==============================] - 0s 2ms/step - loss: 4.6743e-04\n",
      "Epoch 147/200\n",
      "40/40 [==============================] - 0s 2ms/step - loss: 4.6365e-04\n",
      "Epoch 148/200\n",
      "40/40 [==============================] - 0s 2ms/step - loss: 4.6258e-04\n",
      "Epoch 149/200\n",
      "40/40 [==============================] - 0s 2ms/step - loss: 4.5933e-04\n",
      "Epoch 150/200\n",
      "40/40 [==============================] - 0s 2ms/step - loss: 4.5714e-04\n",
      "Epoch 151/200\n",
      "40/40 [==============================] - 0s 2ms/step - loss: 4.5372e-04\n",
      "Epoch 152/200\n",
      "40/40 [==============================] - 0s 2ms/step - loss: 4.5014e-04\n",
      "Epoch 153/200\n",
      "40/40 [==============================] - 0s 2ms/step - loss: 4.4735e-04\n",
      "Epoch 154/200\n",
      "40/40 [==============================] - 0s 2ms/step - loss: 4.4572e-04\n",
      "Epoch 155/200\n",
      "40/40 [==============================] - 0s 2ms/step - loss: 4.4304e-04\n",
      "Epoch 156/200\n",
      "40/40 [==============================] - 0s 2ms/step - loss: 4.4022e-04\n",
      "Epoch 157/200\n",
      "40/40 [==============================] - 0s 2ms/step - loss: 4.3579e-04\n",
      "Epoch 158/200\n",
      "40/40 [==============================] - 0s 2ms/step - loss: 4.3561e-04\n",
      "Epoch 159/200\n",
      "40/40 [==============================] - 0s 3ms/step - loss: 4.3403e-04\n",
      "Epoch 160/200\n",
      "40/40 [==============================] - 0s 2ms/step - loss: 4.3002e-04\n",
      "Epoch 161/200\n",
      "40/40 [==============================] - 0s 2ms/step - loss: 4.2601e-04\n",
      "Epoch 162/200\n",
      "40/40 [==============================] - 0s 2ms/step - loss: 4.2251e-04\n",
      "Epoch 163/200\n",
      "40/40 [==============================] - 0s 2ms/step - loss: 4.1970e-04\n",
      "Epoch 164/200\n",
      "40/40 [==============================] - 0s 2ms/step - loss: 4.1686e-04\n",
      "Epoch 165/200\n",
      "40/40 [==============================] - 0s 2ms/step - loss: 4.1578e-04\n",
      "Epoch 166/200\n",
      "40/40 [==============================] - 0s 2ms/step - loss: 4.1380e-04\n",
      "Epoch 167/200\n",
      "40/40 [==============================] - 0s 2ms/step - loss: 4.0920e-04\n",
      "Epoch 168/200\n",
      "40/40 [==============================] - 0s 2ms/step - loss: 4.0635e-04\n",
      "Epoch 169/200\n",
      "40/40 [==============================] - 0s 2ms/step - loss: 4.0363e-04\n",
      "Epoch 170/200\n",
      "40/40 [==============================] - 0s 2ms/step - loss: 4.0027e-04\n",
      "Epoch 171/200\n",
      "40/40 [==============================] - 0s 2ms/step - loss: 3.9914e-04\n",
      "Epoch 172/200\n",
      "40/40 [==============================] - 0s 2ms/step - loss: 3.9576e-04\n",
      "Epoch 173/200\n",
      "40/40 [==============================] - 0s 2ms/step - loss: 3.9535e-04\n",
      "Epoch 174/200\n",
      "40/40 [==============================] - 0s 2ms/step - loss: 3.9234e-04\n",
      "Epoch 175/200\n",
      "40/40 [==============================] - 0s 2ms/step - loss: 3.8658e-04\n",
      "Epoch 176/200\n",
      "40/40 [==============================] - 0s 2ms/step - loss: 3.8435e-04\n",
      "Epoch 177/200\n",
      "40/40 [==============================] - 0s 2ms/step - loss: 3.8091e-04\n",
      "Epoch 178/200\n",
      "40/40 [==============================] - 0s 2ms/step - loss: 3.7837e-04\n",
      "Epoch 179/200\n",
      "40/40 [==============================] - 0s 2ms/step - loss: 3.7640e-04\n",
      "Epoch 180/200\n",
      "40/40 [==============================] - 0s 2ms/step - loss: 3.7415e-04\n",
      "Epoch 181/200\n",
      "40/40 [==============================] - 0s 2ms/step - loss: 3.7170e-04\n",
      "Epoch 182/200\n",
      "40/40 [==============================] - 0s 2ms/step - loss: 3.6907e-04\n",
      "Epoch 183/200\n",
      "40/40 [==============================] - 0s 2ms/step - loss: 3.6690e-04\n",
      "Epoch 184/200\n",
      "40/40 [==============================] - 0s 2ms/step - loss: 3.6717e-04\n",
      "Epoch 185/200\n",
      "40/40 [==============================] - 0s 2ms/step - loss: 3.6567e-04\n",
      "Epoch 186/200\n",
      "40/40 [==============================] - 0s 2ms/step - loss: 3.6378e-04\n",
      "Epoch 187/200\n",
      "40/40 [==============================] - 0s 2ms/step - loss: 3.5768e-04\n",
      "Epoch 188/200\n",
      "40/40 [==============================] - 0s 2ms/step - loss: 3.5514e-04\n",
      "Epoch 189/200\n",
      "40/40 [==============================] - 0s 2ms/step - loss: 3.5308e-04\n",
      "Epoch 190/200\n",
      "40/40 [==============================] - 0s 2ms/step - loss: 3.4956e-04\n",
      "Epoch 191/200\n",
      "40/40 [==============================] - 0s 2ms/step - loss: 3.4860e-04\n",
      "Epoch 192/200\n",
      "40/40 [==============================] - 0s 2ms/step - loss: 3.4473e-04\n",
      "Epoch 193/200\n",
      "40/40 [==============================] - 0s 2ms/step - loss: 3.4308e-04\n",
      "Epoch 194/200\n",
      "40/40 [==============================] - 0s 2ms/step - loss: 3.4200e-04\n",
      "Epoch 195/200\n",
      "40/40 [==============================] - 0s 2ms/step - loss: 3.3860e-04\n",
      "Epoch 196/200\n"
     ]
    },
    {
     "name": "stdout",
     "output_type": "stream",
     "text": [
      "40/40 [==============================] - 0s 2ms/step - loss: 3.3631e-04\n",
      "Epoch 197/200\n",
      "40/40 [==============================] - 0s 2ms/step - loss: 3.3461e-04\n",
      "Epoch 198/200\n",
      "40/40 [==============================] - 0s 2ms/step - loss: 3.3201e-04\n",
      "Epoch 199/200\n",
      "40/40 [==============================] - 0s 2ms/step - loss: 3.2992e-04\n",
      "Epoch 200/200\n",
      "40/40 [==============================] - 0s 2ms/step - loss: 3.2985e-04\n"
     ]
    },
    {
     "data": {
      "text/plain": [
       "<keras.callbacks.History at 0x226ca26e588>"
      ]
     },
     "execution_count": 8,
     "metadata": {},
     "output_type": "execute_result"
    }
   ],
   "source": [
    "# initializing the model\n",
    "model = Sequential()\n",
    "\n",
    "# adding the input layer and the LSTM layer\n",
    "model.add(LSTM(units = 4, activation = 'sigmoid', input_shape = (None, 1)))\n",
    "\n",
    "# adding the output layer\n",
    "model.add(Dense(units = 1))\n",
    "\n",
    "# compiling the model\n",
    "model.compile(optimizer = 'adam', loss = 'mean_squared_error')\n",
    "\n",
    "# fitting the RNN to the training data\n",
    "model.fit(x_train, y_train, batch_size = 32, epochs = 200)\n"
   ]
  },
  {
   "cell_type": "code",
   "execution_count": 9,
   "metadata": {
    "colab": {
     "base_uri": "https://localhost:8080/",
     "height": 206
    },
    "colab_type": "code",
    "id": "9N-6i3PXUvWU",
    "outputId": "800db33f-07a0-4767-a114-a273500ae21f"
   },
   "outputs": [
    {
     "data": {
      "text/html": [
       "<div>\n",
       "<style scoped>\n",
       "    .dataframe tbody tr th:only-of-type {\n",
       "        vertical-align: middle;\n",
       "    }\n",
       "\n",
       "    .dataframe tbody tr th {\n",
       "        vertical-align: top;\n",
       "    }\n",
       "\n",
       "    .dataframe thead th {\n",
       "        text-align: right;\n",
       "    }\n",
       "</style>\n",
       "<table border=\"1\" class=\"dataframe\">\n",
       "  <thead>\n",
       "    <tr style=\"text-align: right;\">\n",
       "      <th></th>\n",
       "      <th>Open</th>\n",
       "    </tr>\n",
       "  </thead>\n",
       "  <tbody>\n",
       "    <tr>\n",
       "      <th>0</th>\n",
       "      <td>778.81</td>\n",
       "    </tr>\n",
       "    <tr>\n",
       "      <th>1</th>\n",
       "      <td>788.36</td>\n",
       "    </tr>\n",
       "    <tr>\n",
       "      <th>2</th>\n",
       "      <td>786.08</td>\n",
       "    </tr>\n",
       "    <tr>\n",
       "      <th>3</th>\n",
       "      <td>795.26</td>\n",
       "    </tr>\n",
       "    <tr>\n",
       "      <th>4</th>\n",
       "      <td>806.40</td>\n",
       "    </tr>\n",
       "  </tbody>\n",
       "</table>\n",
       "</div>"
      ],
      "text/plain": [
       "     Open\n",
       "0  778.81\n",
       "1  788.36\n",
       "2  786.08\n",
       "3  795.26\n",
       "4  806.40"
      ]
     },
     "execution_count": 9,
     "metadata": {},
     "output_type": "execute_result"
    }
   ],
   "source": [
    "# getting the real stock of 2017 i.e., importing the test dataset\n",
    "\n",
    "test_data = pd.read_csv('Google_Stock_Price_Test.csv')\n",
    "real_stock_price = test_data.iloc[:,1:2]\n",
    "real_stock_price.head()\n"
   ]
  },
  {
   "cell_type": "code",
   "execution_count": 10,
   "metadata": {
    "colab": {},
    "colab_type": "code",
    "id": "sYfYkJi4WBG2"
   },
   "outputs": [],
   "source": [
    "# getting the predicted stock price of 2017\n",
    "\n",
    "inputs = real_stock_price\n",
    "inputs = mm.transform(inputs)\n",
    "inputs = np.reshape(inputs, (20, 1, 1))\n",
    "\n",
    "\n",
    "predicted_stock_price = model.predict(inputs)\n",
    "predicted_stock_price = mm.inverse_transform(predicted_stock_price)\n"
   ]
  },
  {
   "cell_type": "code",
   "execution_count": 11,
   "metadata": {
    "colab": {
     "base_uri": "https://localhost:8080/",
     "height": 392
    },
    "colab_type": "code",
    "id": "3tvcHwk8W2no",
    "outputId": "6a8e1f36-99ec-4728-f479-a583d133d60c"
   },
   "outputs": [
    {
     "data": {
      "text/plain": [
       "array([[767.4921 ],\n",
       "       [775.1687 ],\n",
       "       [773.3458 ],\n",
       "       [780.64703],\n",
       "       [789.3704 ],\n",
       "       [790.5025 ],\n",
       "       [788.28235],\n",
       "       [789.9445 ],\n",
       "       [790.208  ],\n",
       "       [789.898  ],\n",
       "       [788.9122 ],\n",
       "       [788.37573],\n",
       "       [789.7661 ],\n",
       "       [790.0298 ],\n",
       "       [801.5596 ],\n",
       "       [807.0672 ],\n",
       "       [813.1515 ],\n",
       "       [810.8582 ],\n",
       "       [795.7411 ],\n",
       "       [781.9092 ]], dtype=float32)"
      ]
     },
     "execution_count": 11,
     "metadata": {},
     "output_type": "execute_result"
    }
   ],
   "source": [
    "predicted_stock_price"
   ]
  },
  {
   "cell_type": "code",
   "execution_count": 22,
   "metadata": {
    "colab": {
     "base_uri": "https://localhost:8080/",
     "height": 376
    },
    "colab_type": "code",
    "id": "pkA9SvUqXF4M",
    "outputId": "4ae4b823-bc7f-4eda-bd84-aba6f0e8adfb"
   },
   "outputs": [
    {
     "data": {
      "image/png": "[encoded data removed]",
      "text/plain": [
       "<Figure size 432x288 with 1 Axes>"
      ]
     },
     "metadata": {
      "needs_background": "light"
     },
     "output_type": "display_data"
    }
   ],
   "source": [
    "# visualizing the results\n",
    "\n",
    "plt.plot(real_stock_price, color = 'red', label = 'Real Google Stock Price')\n",
    "plt.plot(predicted_stock_price, color = 'blue', label = 'Predicted Google Stock Price')\n",
    "plt.title('Stock Prediction')\n",
    "plt.xlabel('Time')\n",
    "plt.ylabel('Google Stock Price')\n",
    "plt.legend()\n",
    "plt.show()"
   ]
  },
  {
   "cell_type": "code",
   "execution_count": 23,
   "metadata": {
    "colab": {
     "base_uri": "https://localhost:8080/",
     "height": 206
    },
    "colab_type": "code",
    "id": "a_5uKG6UYpxB",
    "outputId": "ea411307-5363-4908-cf5a-62617368ada4"
   },
   "outputs": [
    {
     "data": {
      "text/html": [
       "<div>\n",
       "<style scoped>\n",
       "    .dataframe tbody tr th:only-of-type {\n",
       "        vertical-align: middle;\n",
       "    }\n",
       "\n",
       "    .dataframe tbody tr th {\n",
       "        vertical-align: top;\n",
       "    }\n",
       "\n",
       "    .dataframe thead th {\n",
       "        text-align: right;\n",
       "    }\n",
       "</style>\n",
       "<table border=\"1\" class=\"dataframe\">\n",
       "  <thead>\n",
       "    <tr style=\"text-align: right;\">\n",
       "      <th></th>\n",
       "      <th>Date</th>\n",
       "      <th>Open</th>\n",
       "      <th>High</th>\n",
       "      <th>Low</th>\n",
       "      <th>Close</th>\n",
       "      <th>Volume</th>\n",
       "    </tr>\n",
       "  </thead>\n",
       "  <tbody>\n",
       "    <tr>\n",
       "      <th>0</th>\n",
       "      <td>1/3/2012</td>\n",
       "      <td>325.25</td>\n",
       "      <td>332.83</td>\n",
       "      <td>324.97</td>\n",
       "      <td>663.59</td>\n",
       "      <td>7,380,500</td>\n",
       "    </tr>\n",
       "    <tr>\n",
       "      <th>1</th>\n",
       "      <td>1/4/2012</td>\n",
       "      <td>331.27</td>\n",
       "      <td>333.87</td>\n",
       "      <td>329.08</td>\n",
       "      <td>666.45</td>\n",
       "      <td>5,749,400</td>\n",
       "    </tr>\n",
       "    <tr>\n",
       "      <th>2</th>\n",
       "      <td>1/5/2012</td>\n",
       "      <td>329.83</td>\n",
       "      <td>330.75</td>\n",
       "      <td>326.89</td>\n",
       "      <td>657.21</td>\n",
       "      <td>6,590,300</td>\n",
       "    </tr>\n",
       "    <tr>\n",
       "      <th>3</th>\n",
       "      <td>1/6/2012</td>\n",
       "      <td>328.34</td>\n",
       "      <td>328.77</td>\n",
       "      <td>323.68</td>\n",
       "      <td>648.24</td>\n",
       "      <td>5,405,900</td>\n",
       "    </tr>\n",
       "    <tr>\n",
       "      <th>4</th>\n",
       "      <td>1/9/2012</td>\n",
       "      <td>322.04</td>\n",
       "      <td>322.29</td>\n",
       "      <td>309.46</td>\n",
       "      <td>620.76</td>\n",
       "      <td>11,688,800</td>\n",
       "    </tr>\n",
       "  </tbody>\n",
       "</table>\n",
       "</div>"
      ],
      "text/plain": [
       "       Date    Open    High     Low   Close      Volume\n",
       "0  1/3/2012  325.25  332.83  324.97  663.59   7,380,500\n",
       "1  1/4/2012  331.27  333.87  329.08  666.45   5,749,400\n",
       "2  1/5/2012  329.83  330.75  326.89  657.21   6,590,300\n",
       "3  1/6/2012  328.34  328.77  323.68  648.24   5,405,900\n",
       "4  1/9/2012  322.04  322.29  309.46  620.76  11,688,800"
      ]
     },
     "execution_count": 23,
     "metadata": {},
     "output_type": "execute_result"
    }
   ],
   "source": [
    "# getting the real stock price of 2012 - 2016\n",
    "\n",
    "training_data = pd.read_csv('Google_Stock_Price_Train.csv')\n",
    "\n",
    "training_data.shape\n",
    "training_data.head()"
   ]
  },
  {
   "cell_type": "code",
   "execution_count": 24,
   "metadata": {
    "colab": {
     "base_uri": "https://localhost:8080/",
     "height": 206
    },
    "colab_type": "code",
    "id": "E7nPSVrHbQxM",
    "outputId": "72e39110-9a59-4196-f36f-54aa39867b95"
   },
   "outputs": [
    {
     "data": {
      "text/html": [
       "<div>\n",
       "<style scoped>\n",
       "    .dataframe tbody tr th:only-of-type {\n",
       "        vertical-align: middle;\n",
       "    }\n",
       "\n",
       "    .dataframe tbody tr th {\n",
       "        vertical-align: top;\n",
       "    }\n",
       "\n",
       "    .dataframe thead th {\n",
       "        text-align: right;\n",
       "    }\n",
       "</style>\n",
       "<table border=\"1\" class=\"dataframe\">\n",
       "  <thead>\n",
       "    <tr style=\"text-align: right;\">\n",
       "      <th></th>\n",
       "      <th>Open</th>\n",
       "    </tr>\n",
       "  </thead>\n",
       "  <tbody>\n",
       "    <tr>\n",
       "      <th>0</th>\n",
       "      <td>325.25</td>\n",
       "    </tr>\n",
       "    <tr>\n",
       "      <th>1</th>\n",
       "      <td>331.27</td>\n",
       "    </tr>\n",
       "    <tr>\n",
       "      <th>2</th>\n",
       "      <td>329.83</td>\n",
       "    </tr>\n",
       "    <tr>\n",
       "      <th>3</th>\n",
       "      <td>328.34</td>\n",
       "    </tr>\n",
       "    <tr>\n",
       "      <th>4</th>\n",
       "      <td>322.04</td>\n",
       "    </tr>\n",
       "  </tbody>\n",
       "</table>\n",
       "</div>"
      ],
      "text/plain": [
       "     Open\n",
       "0  325.25\n",
       "1  331.27\n",
       "2  329.83\n",
       "3  328.34\n",
       "4  322.04"
      ]
     },
     "execution_count": 24,
     "metadata": {},
     "output_type": "execute_result"
    }
   ],
   "source": [
    "training_data = training_data.iloc[:, 1:2]\n",
    "\n",
    "training_data.shape\n",
    "training_data.head()"
   ]
  },
  {
   "cell_type": "code",
   "execution_count": 25,
   "metadata": {
    "colab": {},
    "colab_type": "code",
    "id": "6uXzm4mBaIHq"
   },
   "outputs": [],
   "source": [
    "# getting the predicted stock price of 2012-2016\n",
    "\n",
    "predicted_stock_price = model.predict(x_train)\n",
    "predicted_stock_price = mm.inverse_transform(predicted_stock_price)"
   ]
  },
  {
   "cell_type": "code",
   "execution_count": 26,
   "metadata": {
    "colab": {
     "base_uri": "https://localhost:8080/",
     "height": 376
    },
    "colab_type": "code",
    "id": "i76zfhK4arX9",
    "outputId": "741d3ec5-a540-4eae-addf-5823b4997145"
   },
   "outputs": [
    {
     "data": {
      "image/png": "[encoded data removed]",
      "text/plain": [
       "<Figure size 432x288 with 1 Axes>"
      ]
     },
     "metadata": {
      "needs_background": "light"
     },
     "output_type": "display_data"
    }
   ],
   "source": [
    "# visualizing the whole training data results\n",
    "\n",
    "plt.plot(training_data, color = 'red', label = 'Real Google Stock Price')\n",
    "plt.plot(predicted_stock_price, color = 'blue', label = 'Predicted Google Stock Price')\n",
    "plt.title('Stock Prediction')\n",
    "plt.xlabel('Time')\n",
    "plt.ylabel('Google Stock Price')\n",
    "plt.legend()\n",
    "plt.show()"
   ]
  },
  {
   "cell_type": "code",
   "execution_count": null,
   "metadata": {},
   "outputs": [],
   "source": []
  },
  {
   "cell_type": "code",
   "execution_count": null,
   "metadata": {},
   "outputs": [],
   "source": []
  },
  {
   "cell_type": "code",
   "execution_count": null,
   "metadata": {},
   "outputs": [],
   "source": []
  },
  {
   "cell_type": "code",
   "execution_count": null,
   "metadata": {},
   "outputs": [],
   "source": []
  },
  {
   "cell_type": "code",
   "execution_count": null,
   "metadata": {},
   "outputs": [],
   "source": []
  },
  {
   "cell_type": "code",
   "execution_count": null,
   "metadata": {},
   "outputs": [],
   "source": []
  },
  {
   "cell_type": "code",
   "execution_count": null,
   "metadata": {},
   "outputs": [],
   "source": []
  },
  {
   "cell_type": "code",
   "execution_count": null,
   "metadata": {},
   "outputs": [],
   "source": []
  },
  {
   "cell_type": "code",
   "execution_count": null,
   "metadata": {},
   "outputs": [],
   "source": []
  },
  {
   "cell_type": "code",
   "execution_count": null,
   "metadata": {},
   "outputs": [],
   "source": []
  },
  {
   "cell_type": "code",
   "execution_count": null,
   "metadata": {},
   "outputs": [],
   "source": []
  },
  {
   "cell_type": "code",
   "execution_count": null,
   "metadata": {},
   "outputs": [],
   "source": []
  },
  {
   "cell_type": "code",
   "execution_count": null,
   "metadata": {},
   "outputs": [],
   "source": []
  },
  {
   "cell_type": "code",
   "execution_count": null,
   "metadata": {},
   "outputs": [],
   "source": []
  },
  {
   "cell_type": "code",
   "execution_count": null,
   "metadata": {},
   "outputs": [],
   "source": []
  },
  {
   "cell_type": "code",
   "execution_count": null,
   "metadata": {},
   "outputs": [],
   "source": []
  },
  {
   "cell_type": "code",
   "execution_count": null,
   "metadata": {},
   "outputs": [],
   "source": []
  },
  {
   "cell_type": "code",
   "execution_count": null,
   "metadata": {},
   "outputs": [],
   "source": []
  },
  {
   "cell_type": "code",
   "execution_count": null,
   "metadata": {},
   "outputs": [],
   "source": []
  },
  {
   "cell_type": "code",
   "execution_count": null,
   "metadata": {},
   "outputs": [],
   "source": []
  }
 ],
 "metadata": {
  "colab": {
   "collapsed_sections": [],
   "include_colab_link": true,
   "name": "Stock_Prediction.ipynb",
   "provenance": [],
   "version": "0.3.2"
  },
  "kernelspec": {
   "display_name": "Python 3",
   "language": "python",
   "name": "python3"
  },
  "language_info": {
   "codemirror_mode": {
    "name": "ipython",
    "version": 3
   },
   "file_extension": ".py",
   "mimetype": "text/x-python",
   "name": "python",
   "nbconvert_exporter": "python",
   "pygments_lexer": "ipython3",
   "version": "3.7.6"
  }
 },
 "nbformat": 4,
 "nbformat_minor": 1
}
